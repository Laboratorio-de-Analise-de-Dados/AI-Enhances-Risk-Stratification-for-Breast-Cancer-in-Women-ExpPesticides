{
 "cells": [
  {
   "cell_type": "code",
   "execution_count": 2,
   "id": "e2c08e2e-5850-47c2-baad-c0b2ca4eab88",
   "metadata": {},
   "outputs": [],
   "source": [
    "import joblib"
   ]
  },
  {
   "cell_type": "markdown",
   "id": "4b8d6d30-7259-457d-a839-2cb592221f17",
   "metadata": {
    "tags": []
   },
   "source": [
    "# Predição de Estratificação de Risco"
   ]
  },
  {
   "cell_type": "markdown",
   "id": "6caff0e1-7e8f-42d4-8955-d05c12b97f9d",
   "metadata": {
    "tags": []
   },
   "source": [
    "## Dados "
   ]
  },
  {
   "cell_type": "code",
   "execution_count": null,
   "id": "4875e44a-13e6-4ea1-bf79-d245eec9bd1f",
   "metadata": {},
   "outputs": [],
   "source": [
    "dados_cancerpositivo-Copy1.xlsx"
   ]
  },
  {
   "cell_type": "markdown",
   "id": "17c1b07e-5dbe-4ae2-a460-84752096a6b7",
   "metadata": {},
   "source": [
    "### Ministério da Saúde"
   ]
  },
  {
   "cell_type": "code",
   "execution_count": null,
   "id": "221db7db-65e9-4922-bb28-6b9602cda682",
   "metadata": {},
   "outputs": [],
   "source": [
    "'Estrogen receptor expression', 'Progesterone receptor expression','Molecular subtype', 'Tumor size', 'Grade', 'Lymph node', 'Age at diagnosis'\n",
    "\n",
    "[\"RSprevisoesMS_svm\", \"RSyMS_svm\", \"RStabela_metricasMS_svm\", 'RSmatrizMS_svm']\n",
    "[\"RSprevisoesMS_rl\", \"RSyMS_rl\", \"RStabela_metricasMS_rl\", 'RSmatrizMS_rl']\n",
    "[\"RSprevisoesMS_rf\", \"RSyMS_rf\", \"RStabela_metricasMS_rf\", 'RSmatrizMS_rf']\n",
    "[\"RSprevisoesMS_gboost\", \"RSyMS_gboost\", \"RStabela_metricasMS_gboost\", 'RSmatrizMS_gboost']\n",
    "\n",
    "[\"RSmodeloMS_mlp\", \"RSprevisoesMS_mlp\", \"RSyMS_mlp\", \"RStabela_metricasMS_mlp\", 'RSmatrizMS_mlp']\n",
    "\n",
    "boxplot = \"Metrics of risk stratification (MH)\"\n",
    "ROC = \"Risk stratification (Ministry of Health)\""
   ]
  },
  {
   "cell_type": "code",
   "execution_count": 2,
   "id": "1d463a37-2a88-4966-bbff-3ecf0ca7e4f1",
   "metadata": {},
   "outputs": [
    {
     "name": "stdout",
     "output_type": "stream",
     "text": [
      "GradientBoostingClassifier(min_samples_split=5, n_estimators=50)\n",
      "RandomForestClassifier(class_weight='balanced', max_depth=10,\n",
      "                       max_features='log2', min_samples_split=5,\n",
      "                       n_estimators=200)\n",
      "LogisticRegression(solver='liblinear')\n",
      "SVC(C=10, gamma=1, kernel='linear')\n"
     ]
    }
   ],
   "source": [
    "import joblib\n",
    "print(joblib.load('1- Risk stratification/1- Ministry_of_Health/5- Best model/melhor_modelo_GBoost'))\n",
    "print(joblib.load('1- Risk stratification/1- Ministry_of_Health/5- Best model/melhor_modelo_RF'))\n",
    "print(joblib.load('1- Risk stratification/1- Ministry_of_Health/5- Best model/melhor_modelo_RL'))\n",
    "print(joblib.load('1- Risk stratification/1- Ministry_of_Health/5- Best model/melhor_modelo_SVM'))"
   ]
  },
  {
   "cell_type": "code",
   "execution_count": 3,
   "id": "33f679b7-d242-463c-ba69-775df42787c1",
   "metadata": {},
   "outputs": [
    {
     "data": {
      "text/plain": [
       "[303, {'Medium': 172, 'High': 112, 'Low': 19}]"
      ]
     },
     "execution_count": 3,
     "metadata": {},
     "output_type": "execute_result"
    }
   ],
   "source": [
    "joblib.load('1- Risk stratification/1- Ministry_of_Health/informacoes_df_Risk stratification (Ministry of Health)')"
   ]
  },
  {
   "cell_type": "markdown",
   "id": "19b4d0e6-7622-448f-ae83-b4a003e30542",
   "metadata": {},
   "source": [
    "### Artigo"
   ]
  },
  {
   "cell_type": "code",
   "execution_count": null,
   "id": "24b9e2a8-2e97-4803-b5c5-b0482ffffecc",
   "metadata": {},
   "outputs": [],
   "source": [
    "'Angiolymphatic emboli', 'Lymph node', 'Distant metastasis', 'Menopausal status', 'Exposure to pesticides'\n",
    "\n",
    "[\"RSprevisoesART_svm\", \"RSyART_svm\", \"RStabela_metricasART_svm\", 'RSmatrizART_svm']\n",
    "[\"RSprevisoesART_rl\", \"RSyART_rl\", \"RStabela_metricasART_rl\", 'RSmatrizART_rl']\n",
    "[\"RSprevisoesART_rf\", \"RSyART_rf\", \"RStabela_metricasART_rf\", 'RSmatrizART_rf']\n",
    "[\"RSprevisoesART_gboost\", \"RKyART_gboost\", \"RStabela_metricasART_gboost\", 'RSmatrizART_gboost']\n",
    "\n",
    "[\"RSmodeloART_mlp\", \"RSprevisoesART_mlp\", \"RSyART_mlp\", \"RStabela_metricasART_mlp\", 'RSmatrizART_mlp']\n",
    "\n",
    "boxplot = \"Metrics of risk stratification (ART)\"\n",
    "ROC = \"Risk stratification (Article)\""
   ]
  },
  {
   "cell_type": "code",
   "execution_count": 4,
   "id": "e5a2ca09-104a-4999-9327-8bc65e047ba0",
   "metadata": {},
   "outputs": [
    {
     "name": "stdout",
     "output_type": "stream",
     "text": [
      "GradientBoostingClassifier(n_estimators=50, subsample=0.8)\n",
      "RandomForestClassifier(class_weight='balanced', criterion='entropy',\n",
      "                       max_features='log2', min_samples_split=15,\n",
      "                       n_estimators=400)\n",
      "LogisticRegression(penalty='l1', solver='liblinear')\n",
      "SVC(C=1, gamma=1, kernel='linear')\n"
     ]
    }
   ],
   "source": [
    "print(joblib.load('1- Risk stratification/3- Article/5- Best model/melhor_modelo_GBoost'))\n",
    "print(joblib.load('1- Risk stratification/3- Article/5- Best model/melhor_modelo_RF'))\n",
    "print(joblib.load('1- Risk stratification/3- Article/5- Best model/melhor_modelo_RL'))\n",
    "print(joblib.load('1- Risk stratification/3- Article/5- Best model/melhor_modelo_SVM'))"
   ]
  },
  {
   "cell_type": "code",
   "execution_count": 5,
   "id": "d9a5c60b-71c8-4137-aff7-b612acfd9a60",
   "metadata": {},
   "outputs": [
    {
     "data": {
      "text/plain": [
       "[249, {'Medium': 141, 'High': 95, 'Low': 13}]"
      ]
     },
     "execution_count": 5,
     "metadata": {},
     "output_type": "execute_result"
    }
   ],
   "source": [
    "joblib.load('1- Risk stratification/3- Article/informacoes_df_Risk stratification (Article)')"
   ]
  },
  {
   "cell_type": "markdown",
   "id": "fb42e9f6-a9c8-4d0d-83ee-9e23bf9aaba0",
   "metadata": {},
   "source": [
    "### Ministério da Saúde + Artigo"
   ]
  },
  {
   "cell_type": "code",
   "execution_count": null,
   "id": "033379ab-142a-4b92-8382-ee60d935788c",
   "metadata": {},
   "outputs": [],
   "source": [
    "'Estrogen receptor expression', 'Progesterone receptor expression','Molecular subtype', 'Tumor size', 'Grade','Angiolymphatic emboli', 'Lymph node', 'Distant metastasis','Age at diagnosis', 'Menopausal status', 'Exposure to pesticides'\n",
    "\n",
    "[\"RSprevisoesMSart_svm\", \"RSyMSart_svm\", \"RStabela_metricasMSart_svm\", 'RSmatrizMSart_svm']\n",
    "[\"RSprevisoesMSart_rl\", \"RSyMSart_rl\", \"RStabela_metricasMSart_rl\", 'RSmatrizMSart_rl']\n",
    "[\"RSprevisoesMSart_rf\", \"RSyMSart_rf\", \"RStabela_metricasMSart_rf\", 'RSmatrizMSart_rf']\n",
    "[\"RSprevisoesMSart_gboost\", \"RKyMSart_gboost\", \"RStabela_metricasMSart_gboost\", 'RSmatrizMSart_gboost']\n",
    "\n",
    "[\"RSmodeloMSart_mlp\", \"RSprevisoesMSart_mlp\", \"RSyMSart_mlp\", \"RStabela_metricasMSart_mlp\", 'RSmatrizMSart_mlp']\n",
    "\n",
    "boxplot = \"Metrics of risk stratification (MH + ART)\"\n",
    "ROC = \"Risk stratification (Ministry of Health + article)\""
   ]
  },
  {
   "cell_type": "code",
   "execution_count": 9,
   "id": "5c2641e3-9617-418f-bab8-a3d41bc6cadb",
   "metadata": {},
   "outputs": [
    {
     "name": "stdout",
     "output_type": "stream",
     "text": [
      "GradientBoostingClassifier(n_estimators=50, subsample=0.8)\n",
      "RandomForestClassifier(class_weight='balanced', max_depth=10,\n",
      "                       max_features='log2', min_samples_split=15,\n",
      "                       n_estimators=200)\n",
      "LogisticRegression(solver='liblinear')\n",
      "SVC(C=1, gamma=1, kernel='linear')\n"
     ]
    }
   ],
   "source": [
    "print(joblib.load('1- Risk stratification/2- Ministry_of_Health + article/5- Best model/melhor_modelo_GBoost'))\n",
    "print(joblib.load('1- Risk stratification/2- Ministry_of_Health + article/5- Best model/melhor_modelo_RF'))\n",
    "print(joblib.load('1- Risk stratification/2- Ministry_of_Health + article/5- Best model/melhor_modelo_RL'))\n",
    "print(joblib.load('1- Risk stratification/2- Ministry_of_Health + article/5- Best model/melhor_modelo_SVM'))"
   ]
  },
  {
   "cell_type": "code",
   "execution_count": 11,
   "id": "3cff33d2-88b9-4a31-a46e-2da4e4080970",
   "metadata": {},
   "outputs": [
    {
     "data": {
      "text/plain": [
       "[244, {'Medium': 138, 'High': 93, 'Low': 13}]"
      ]
     },
     "execution_count": 11,
     "metadata": {},
     "output_type": "execute_result"
    }
   ],
   "source": [
    "joblib.load('1- Risk stratification/2- Ministry_of_Health + article/informacoes_df_Risk stratification (Ministry of Health + article)')"
   ]
  },
  {
   "cell_type": "markdown",
   "id": "1d733702-8ab4-4bdc-a6c2-1f7ae21c125b",
   "metadata": {},
   "source": [
    "### Ministério da Saúde Oversampling"
   ]
  },
  {
   "cell_type": "code",
   "execution_count": null,
   "id": "8f836954-2e41-4c07-a7c1-9721452901d3",
   "metadata": {},
   "outputs": [],
   "source": [
    "'Estrogen receptor expression', 'Progesterone receptor expression','Molecular subtype', 'Tumor size', 'Grade', 'Lymph node', 'Age at diagnosis'\n",
    "\n",
    "[\"RSprevisoesMSo_svm\", \"RSyMSo_svm\", \"RStabela_metricasMSo_svm\", 'RSmatrizMSo_svm']\n",
    "[\"RSprevisoesMSo_rl\", \"RSyMSo_rl\", \"RStabela_metricasMSo_rl\", 'RSmatrizMSo_rl']\n",
    "[\"RSprevisoesMSo_rf\", \"RSyMSo_rf\", \"RStabela_metricasMSo_rf\", 'RSmatrizMSo_rf']\n",
    "[\"RSprevisoesMSo_gboost\", \"RKyMSo_gboost\", \"RStabela_metricasMSo_gboost\", 'RSmatrizMSo_gboost']\n",
    "\n",
    "[\"RSmodeloMSo_mlp\", \"RSprevisoesMSo_mlp\", \"RSyMSo_mlp\", \"RStabela_metricasMSo_mlp\", 'RSmatrizMSo_mlp']\n",
    "\n",
    "boxplot = \"Metrics of risk stratification (MH oversampling)\"\n",
    "ROC = \"Risk stratification (Ministry of Health oversampling)\""
   ]
  },
  {
   "cell_type": "code",
   "execution_count": 12,
   "id": "bd2a4e38-72f1-4e8e-b574-484cf7834321",
   "metadata": {},
   "outputs": [
    {
     "name": "stdout",
     "output_type": "stream",
     "text": [
      "GradientBoostingClassifier(min_samples_split=5, n_estimators=50, subsample=0.8)\n",
      "RandomForestClassifier(class_weight='balanced', max_features='log2',\n",
      "                       min_samples_split=5, n_estimators=400)\n",
      "LogisticRegression(penalty='l1', solver='liblinear')\n",
      "SVC(C=1, gamma=1, kernel='linear')\n"
     ]
    }
   ],
   "source": [
    "print(joblib.load('1- Risk stratification/4- Ministry_of_Health oversampling/5- Best model/melhor_modelo_GBoost'))\n",
    "print(joblib.load('1- Risk stratification/4- Ministry_of_Health oversampling/5- Best model/melhor_modelo_RF'))\n",
    "print(joblib.load('1- Risk stratification/4- Ministry_of_Health oversampling/5- Best model/melhor_modelo_RL'))\n",
    "print(joblib.load('1- Risk stratification/4- Ministry_of_Health oversampling/5- Best model/melhor_modelo_SVM'))"
   ]
  },
  {
   "cell_type": "code",
   "execution_count": 13,
   "id": "4eb4529a-b4f3-41d1-8c65-d7ebea566a79",
   "metadata": {},
   "outputs": [
    {
     "data": {
      "text/plain": [
       "[516, {'Medium': 172, 'High': 172, 'Low': 172}]"
      ]
     },
     "execution_count": 13,
     "metadata": {},
     "output_type": "execute_result"
    }
   ],
   "source": [
    "joblib.load('1- Risk stratification/4- Ministry_of_Health oversampling/informacoes_df_Risk stratification (Ministry of Health oversampling)')"
   ]
  },
  {
   "cell_type": "markdown",
   "id": "61d559a3-88bd-405a-a0c4-5b71b546ac9f",
   "metadata": {},
   "source": [
    "### Ministério da Saúde + Artigo Oversampling"
   ]
  },
  {
   "cell_type": "code",
   "execution_count": null,
   "id": "6f33c958-a4e4-4d4f-8b5f-6c8dd3f4dd90",
   "metadata": {},
   "outputs": [],
   "source": [
    "'Estrogen receptor expression', 'Progesterone receptor expression','Molecular subtype', 'Tumor size', 'Grade','Angiolymphatic emboli', 'Lymph node', 'Distant metastasis','Age at diagnosis', 'Menopausal status', 'Exposure to pesticides'\n",
    "\n",
    "[\"RSprevisoesMSart0_svm\", \"RSyMSart0_svm\", \"RStabela_metricasMSart0_svm\", 'RSmatrizMSart0_svm']\n",
    "[\"RSprevisoesMSart0_rl\", \"RSyMSart0_rl\", \"RStabela_metricasMSart0_rl\", 'RSmatrizMSart0_rl']\n",
    "[\"RSprevisoesMSart0_rf\", \"RSyMSart0_rf\", \"RStabela_metricasMSart0_rf\", 'RSmatrizMSart0_rf']\n",
    "[\"RSprevisoesMSart0_gboost\", \"RKyMSart0_gboost\", \"RStabela_metricasMSart0_gboost\", 'RSmatrizMSart0_gboost']\n",
    "\n",
    "[\"RSmodeloMSart0_mlp\", \"RSprevisoesMSart0_mlp\", \"RSyMSart0_mlp\", \"RStabela_metricasMSart0_mlp\", 'RSmatrizMSart_mlp']\n",
    "\n",
    "boxplot = \"Metrics of risk stratification (MH + ART oversampling)\"\n",
    "ROC = \"Risk stratification (Ministry of Health + article oversampling)\""
   ]
  },
  {
   "cell_type": "code",
   "execution_count": 14,
   "id": "60bee6f9-718c-4083-b05f-87ef4d2b0cf3",
   "metadata": {},
   "outputs": [
    {
     "name": "stdout",
     "output_type": "stream",
     "text": [
      "GradientBoostingClassifier()\n",
      "RandomForestClassifier(class_weight='balanced', max_features='log2',\n",
      "                       min_samples_split=5, n_estimators=400)\n",
      "LogisticRegression(solver='liblinear')\n",
      "SVC(C=100, gamma=1, kernel='linear')\n"
     ]
    }
   ],
   "source": [
    "print(joblib.load('1- Risk stratification/5- Ministry_of_Health+article oversampling/5- Best model/melhor_modelo_GBoost'))\n",
    "print(joblib.load('1- Risk stratification/5- Ministry_of_Health+article oversampling/5- Best model/melhor_modelo_RF'))\n",
    "print(joblib.load('1- Risk stratification/5- Ministry_of_Health+article oversampling/5- Best model/melhor_modelo_RL'))\n",
    "print(joblib.load('1- Risk stratification/5- Ministry_of_Health+article oversampling/5- Best model/melhor_modelo_SVM'))"
   ]
  },
  {
   "cell_type": "code",
   "execution_count": 15,
   "id": "28e6f9f0-0f61-4db3-b464-80846a687271",
   "metadata": {},
   "outputs": [
    {
     "data": {
      "text/plain": [
       "[414, {'Medium': 138, 'High': 138, 'Low': 138}]"
      ]
     },
     "execution_count": 15,
     "metadata": {},
     "output_type": "execute_result"
    }
   ],
   "source": [
    "joblib.load('1- Risk stratification/5- Ministry_of_Health+article oversampling/informacoes_df_Risk stratification (Ministry of Health + article oversampling)')"
   ]
  },
  {
   "cell_type": "markdown",
   "id": "52de20f2-5672-4225-8eff-ab3016428ca1",
   "metadata": {
    "tags": []
   },
   "source": [
    "## Adição unitária dos parâmetros"
   ]
  },
  {
   "cell_type": "markdown",
   "id": "b52d650e-192c-441f-bd89-75b14e4ad67d",
   "metadata": {},
   "source": [
    "### Ministério da Saúde + Menopausa"
   ]
  },
  {
   "cell_type": "code",
   "execution_count": null,
   "id": "83fa4ac9-e7e4-4370-a296-3e4db286542f",
   "metadata": {},
   "outputs": [],
   "source": [
    "'Estrogen receptor expression', 'Progesterone receptor expression','Molecular subtype', 'Tumor size', 'Grade', 'Lymph node', 'Age at diagnosis', 'Menopausal status'\n",
    "\n",
    "[\"RSprevisoesMSM_svm\", \"RSyMSM_svm\", \"RStabela_metricasMSM_svm\", 'RSmatrizMSM_svm']\n",
    "[\"RSprevisoesMSM_rl\", \"RSyMSM_rl\", \"RStabela_metricasMSM_rl\", 'RSmatrizMSM_rl']\n",
    "[\"RSprevisoesMSM_rf\", \"RSyMSM_rf\", \"RStabela_metricasMSM_rf\", 'RSmatrizMSM_rf']\n",
    "[\"RSprevisoesMSM_gboost\", \"RKyMSM_gboost\", \"RStabela_metricasMSM_gboost\", 'RSmatrizMSM_gboost']\n",
    "\n",
    "[\"RSmodeloMSM_mlp\", \"RSprevisoesMSM_mlp\", \"RSyMSM_mlp\", \"RStabela_metricasMSM_mlp\", 'RSmatrizMSM_mlp']\n",
    "\n",
    "boxplot = \"Metrics of risk stratification (MH + Menopausal status)\"\n",
    "ROC = \"Risk stratification (Ministry of Health + Menopausal status)\""
   ]
  },
  {
   "cell_type": "code",
   "execution_count": 4,
   "id": "b860b39f-2bbe-47f6-b7fd-01cc5b6f4c7a",
   "metadata": {},
   "outputs": [
    {
     "name": "stdout",
     "output_type": "stream",
     "text": [
      "GradientBoostingClassifier(n_estimators=50, subsample=0.8)\n",
      "RandomForestClassifier(class_weight='balanced', max_depth=10,\n",
      "                       max_features='log2', min_samples_split=5,\n",
      "                       n_estimators=200)\n",
      "LogisticRegression(penalty='l1', solver='liblinear')\n",
      "SVC(C=10, gamma=1, kernel='linear')\n"
     ]
    }
   ],
   "source": [
    "print(joblib.load('1- Risk stratification/6- Analise_unitaria_parametros/Ministry of Health + menopausal status/5 - Best model/melhor_modelo_GBoost'))\n",
    "print(joblib.load('1- Risk stratification/6- Analise_unitaria_parametros/Ministry of Health + menopausal status/5 - Best model/melhor_modelo_RF'))\n",
    "print(joblib.load('1- Risk stratification/6- Analise_unitaria_parametros/Ministry of Health + menopausal status/5 - Best model/melhor_modelo_RL'))\n",
    "print(joblib.load('1- Risk stratification/6- Analise_unitaria_parametros/Ministry of Health + menopausal status/5 - Best model/melhor_modelo_SVM'))"
   ]
  },
  {
   "cell_type": "code",
   "execution_count": 3,
   "id": "bba91a99-1c2f-449e-9f5b-295b20ae8628",
   "metadata": {},
   "outputs": [
    {
     "data": {
      "text/plain": [
       "[295, {'Medium': 167, 'High': 109, 'Low': 19}]"
      ]
     },
     "execution_count": 3,
     "metadata": {},
     "output_type": "execute_result"
    }
   ],
   "source": [
    "joblib.load('1- Risk stratification/6- Analise_unitaria_parametros/Ministry of Health + menopausal status/informacoes_df_Risk stratification (Ministry of Health + Menopausal status)')"
   ]
  },
  {
   "cell_type": "markdown",
   "id": "382ffe76-c0fb-48f8-97a9-60ad5103e59a",
   "metadata": {},
   "source": [
    "### Ministério da Saúde + Êmbolos"
   ]
  },
  {
   "cell_type": "code",
   "execution_count": null,
   "id": "ca649152-1efb-42f4-aa14-60e749b8bf67",
   "metadata": {},
   "outputs": [],
   "source": [
    "'Estrogen receptor expression', 'Progesterone receptor expression','Molecular subtype', 'Tumor size', 'Grade', 'Lymph node', 'Age at diagnosis','Angiolymphatic emboli'\n",
    "\n",
    "[\"RSprevisoesMSE_svm\", \"RSyMSE_svm\", \"RStabela_metricasMSE_svm\", 'RSmatrizMSE_svm']\n",
    "[\"RSprevisoesMSE_rl\", \"RSyMSE_rl\", \"RStabela_metricasMSE_rl\", 'RSmatrizMSE_rl']\n",
    "[\"RSprevisoesMSE_rf\", \"RSyMSE_rf\", \"RStabela_metricasMSE_rf\", 'RSmatrizMSE_rf']\n",
    "[\"RSprevisoesMSE_gboost\", \"RKyMSE_gboost\", \"RStabela_metricasMSE_gboost\", 'RSmatrizMSE_gboost']\n",
    "[\"RSmodeloMSE_mlp\", \"RSprevisoesMSE_mlp\", \"RSyMSE_mlp\", \"RStabela_metricasMSE_mlp\", 'RSmatrizMSE_mlp']\n",
    "\n",
    "boxplot = \"Metrics of risk stratification (MH + Angiolymphatic emboli)\"\n",
    "ROC = \"Risk stratification (Ministry of Health + Angiolymphatic emboli)\""
   ]
  },
  {
   "cell_type": "code",
   "execution_count": 10,
   "id": "1799ce14-22e8-4701-a69a-2b882d0760c9",
   "metadata": {},
   "outputs": [
    {
     "name": "stdout",
     "output_type": "stream",
     "text": [
      "GradientBoostingClassifier(max_depth=4, subsample=0.8)\n",
      "RandomForestClassifier(class_weight='balanced', criterion='entropy',\n",
      "                       max_depth=4, max_features='log2', min_samples_split=15,\n",
      "                       n_estimators=400)\n",
      "LogisticRegression(penalty='l1', solver='liblinear')\n",
      "SVC(C=10, gamma=1, kernel='linear')\n"
     ]
    }
   ],
   "source": [
    "print(joblib.load('1- Risk stratification/6- Analise_unitaria_parametros/Ministry of Health + angio. emboli/5 - Best model/melhor_modelo_GBoost'))\n",
    "print(joblib.load('1- Risk stratification/6- Analise_unitaria_parametros/Ministry of Health + angio. emboli/5 - Best model/melhor_modelo_RF'))\n",
    "print(joblib.load('1- Risk stratification/6- Analise_unitaria_parametros/Ministry of Health + angio. emboli/5 - Best model/melhor_modelo_RL'))\n",
    "print(joblib.load('1- Risk stratification/6- Analise_unitaria_parametros/Ministry of Health + angio. emboli/5 - Best model/melhor_modelo_SVM'))"
   ]
  },
  {
   "cell_type": "code",
   "execution_count": 9,
   "id": "b211b80c-2121-4901-9367-652ead89a3ff",
   "metadata": {},
   "outputs": [
    {
     "data": {
      "text/plain": [
       "[286, {'Medium': 166, 'High': 104, 'Low': 16}]"
      ]
     },
     "execution_count": 9,
     "metadata": {},
     "output_type": "execute_result"
    }
   ],
   "source": [
    "joblib.load('1- Risk stratification/6- Analise_unitaria_parametros/Ministry of Health + angio. emboli/informacoes_df_Risk stratification (Ministry of Health + Angiolymphatic emboli)')"
   ]
  },
  {
   "cell_type": "markdown",
   "id": "bc407a99-b8ea-47e2-95fa-faae58b7da83",
   "metadata": {},
   "source": [
    "### Ministério da Saúde + Metástase"
   ]
  },
  {
   "cell_type": "code",
   "execution_count": null,
   "id": "4b45cf2c-d9c4-4ac1-a827-23f80a791010",
   "metadata": {},
   "outputs": [],
   "source": [
    "'Estrogen receptor expression', 'Progesterone receptor expression','Molecular subtype', 'Tumor size', 'Grade', 'Lymph node', 'Age at diagnosis', 'Distant metastasis'\n",
    "\n",
    "[\"RSprevisoesMSDM_svm\", \"RSyMSDM_svm\", \"RStabela_metricasMSDM_svm\", 'RSmatrizMSDM_svm']\n",
    "[\"RSprevisoesMSDM_rl\", \"RSyMSDM_rl\", \"RStabela_metricasMSDM_rl\", 'RSmatrizMSDM_rl']\n",
    "[\"RSprevisoesMSDM_rf\", \"RSyMSDM_rf\", \"RStabela_metricasMSDM_rf\", 'RSmatrizMSDM_rf']\n",
    "[\"RSprevisoesMSDM_gboost\", \"RKyMSDM_gboost\", \"RStabela_metricasMSDM_gboost\", 'RSmatrizMSDM_gboost']\n",
    "\n",
    "[\"RSmodeloMSDM_mlp\", \"RSprevisoesMSDM_mlp\", \"RSyMSDM_mlp\", \"RStabela_metricasMSDM_mlp\", 'RSmatrizMSDM_mlp']\n",
    "\n",
    "boxplot = \"Metrics of risk stratification (MH + Distant metastasis)\"\n",
    "ROC = \"Risk stratification (Ministry of Health + Distant metastasis)\""
   ]
  },
  {
   "cell_type": "code",
   "execution_count": 6,
   "id": "fe923ef9-b96a-480f-a74e-da653d8ae448",
   "metadata": {},
   "outputs": [
    {
     "name": "stdout",
     "output_type": "stream",
     "text": [
      "GradientBoostingClassifier(n_estimators=50, subsample=0.8)\n",
      "RandomForestClassifier(class_weight='balanced', max_features='log2',\n",
      "                       min_samples_split=5, n_estimators=400)\n",
      "LogisticRegression(penalty='l1', solver='liblinear')\n",
      "SVC(C=1, gamma=1, kernel='linear')\n"
     ]
    }
   ],
   "source": [
    "print(joblib.load('1- Risk stratification/6- Analise_unitaria_parametros/Ministry of Health + metastasis/5 - Best model/melhor_modelo_GBoost'))\n",
    "print(joblib.load('1- Risk stratification/6- Analise_unitaria_parametros/Ministry of Health + metastasis/5 - Best model/melhor_modelo_RF'))\n",
    "print(joblib.load('1- Risk stratification/6- Analise_unitaria_parametros/Ministry of Health + metastasis/5 - Best model/melhor_modelo_RL'))\n",
    "print(joblib.load('1- Risk stratification/6- Analise_unitaria_parametros/Ministry of Health + metastasis/5 - Best model/melhor_modelo_SVM'))"
   ]
  },
  {
   "cell_type": "code",
   "execution_count": 5,
   "id": "e214251a-2d6a-4b03-8565-70f21ec3bea2",
   "metadata": {},
   "outputs": [
    {
     "data": {
      "text/plain": [
       "[277, {'Medium': 156, 'High': 105, 'Low': 16}]"
      ]
     },
     "execution_count": 5,
     "metadata": {},
     "output_type": "execute_result"
    }
   ],
   "source": [
    "joblib.load('1- Risk stratification/6- Analise_unitaria_parametros/Ministry of Health + metastasis/informacoes_df_Risk stratification (Ministry of Health + Distant metastasis)')"
   ]
  },
  {
   "cell_type": "markdown",
   "id": "3f73e9a9-1a96-4490-8180-337de4c2bc48",
   "metadata": {},
   "source": [
    "### Ministério da Saúde + Exposição a agrotóxicos"
   ]
  },
  {
   "cell_type": "code",
   "execution_count": null,
   "id": "46784dc4-f79c-4ff0-a30d-f4d49691a35e",
   "metadata": {},
   "outputs": [],
   "source": [
    "'Estrogen receptor expression', 'Progesterone receptor expression','Molecular subtype', 'Tumor size', 'Grade', 'Lymph node', 'Age at diagnosis', 'Exposure to pesticides'\n",
    "\n",
    "[\"RSprevisoesMSexp_svm\", \"RSyMSexp_svm\", \"RStabela_metricasMSexp_svm\", 'RSmatrizMSexp_svm']\n",
    "[\"RSprevisoesMSexp_rl\", \"RSyMSexp_rl\", \"RStabela_metricasMSexp_rl\", 'RSmatrizMSexp_rl']\n",
    "[\"RSprevisoesMSexp_rf\", \"RSyMSexp_rf\", \"RStabela_metricasMSexp_rf\", 'RSmatrizMSexp_rf']\n",
    "[\"RSprevisoesMSexp_gboost\", \"RKyMSexp_gboost\", \"RStabela_metricasMSexp_gboost\", 'RSmatrizMSexp_gboost']\n",
    "\n",
    "[\"RSmodeloMSexp_mlp\", \"RSprevisoesMSexp_mlp\", \"RSyMSexp_mlp\", \"RStabela_metricasMSexp_mlp\", \"RSmatrizMSexp_mlp\"]\n",
    "\n",
    "boxplot = \"Metrics of risk stratification (MH + Pesticide exposure)\"\n",
    "ROC = \"Risk stratification (Ministry of Health + Pesticide exposure)\""
   ]
  },
  {
   "cell_type": "code",
   "execution_count": 7,
   "id": "022452aa-744a-40c3-98f0-5e61c9b68ad0",
   "metadata": {},
   "outputs": [
    {
     "name": "stdout",
     "output_type": "stream",
     "text": [
      "GradientBoostingClassifier(min_samples_split=5, n_estimators=50)\n",
      "RandomForestClassifier(class_weight='balanced_subsample', criterion='entropy',\n",
      "                       max_depth=10, max_features='log2', min_samples_split=5,\n",
      "                       n_estimators=200)\n",
      "LogisticRegression(penalty='l1', solver='liblinear')\n",
      "SVC(C=10, gamma=1, kernel='linear')\n"
     ]
    }
   ],
   "source": [
    "print(joblib.load('1- Risk stratification/6- Analise_unitaria_parametros/Ministry of Health + pesticide exposure/5 - Best model/melhor_modelo_GBoost'))\n",
    "print(joblib.load('1- Risk stratification/6- Analise_unitaria_parametros/Ministry of Health + pesticide exposure/5 - Best model/melhor_modelo_RF'))\n",
    "print(joblib.load('1- Risk stratification/6- Analise_unitaria_parametros/Ministry of Health + pesticide exposure/5 - Best model/melhor_modelo_RL'))\n",
    "print(joblib.load('1- Risk stratification/6- Analise_unitaria_parametros/Ministry of Health + pesticide exposure/5 - Best model/melhor_modelo_SVM'))"
   ]
  },
  {
   "cell_type": "code",
   "execution_count": 8,
   "id": "03da7043-9f51-4ae3-818e-86519ced5c35",
   "metadata": {},
   "outputs": [
    {
     "data": {
      "text/plain": [
       "[289, {'Medium': 162, 'High': 108, 'Low': 19}]"
      ]
     },
     "execution_count": 8,
     "metadata": {},
     "output_type": "execute_result"
    }
   ],
   "source": [
    "joblib.load('1- Risk stratification/6- Analise_unitaria_parametros/Ministry of Health + pesticide exposure/informacoes_df_Risk stratification (Ministry of Health + Pesticide exposure)')"
   ]
  },
  {
   "cell_type": "markdown",
   "id": "854f7f1d-1a0d-400e-abea-b57d2061ad8e",
   "metadata": {},
   "source": [
    "### Ministério da Saúde + Linfonodos"
   ]
  },
  {
   "cell_type": "markdown",
   "id": "3d2d9bc7-c6cc-4911-bc64-71c4350eb416",
   "metadata": {
    "tags": []
   },
   "source": [
    "## Dados alterados"
   ]
  },
  {
   "cell_type": "code",
   "execution_count": null,
   "id": "f7f6068a-8e88-4fc5-8f00-63624596503d",
   "metadata": {},
   "outputs": [],
   "source": [
    "dados_alterados2024.xlsx"
   ]
  },
  {
   "cell_type": "markdown",
   "id": "18678d8e-17bc-4619-841e-0eee10fc4f6a",
   "metadata": {},
   "source": [
    "### Ministério da Saúde"
   ]
  },
  {
   "cell_type": "code",
   "execution_count": null,
   "id": "7e131a8d-da3d-481d-b2b0-51062d7cc0d6",
   "metadata": {},
   "outputs": [],
   "source": [
    "'Estrogen receptor expression', 'Progesterone receptor expression','Molecular subtype', 'Tumor size', 'Grade', 'Lymph node', 'Age at diagnosis'\n",
    "\n",
    "[\"RSprevisoesMS_alt_svm\", \"RSyMS_alt_svm\", \"RStabela_metricasMS_alt_svm\", 'RSmatrizMS_alt_svm']\n",
    "[\"RSprevisoesMS_alt_rl\", \"RSyMS_alt_rl\", \"RStabela_metricasMS_alt_rl\", 'RSmatrizMS_alt_rl']\n",
    "[\"RSprevisoesMS_alt_rf\", \"RSyMS_alt_rf\", \"RStabela_metricasMS_alt_rf\", 'RSmatrizMS_alt_rf']\n",
    "[\"RSprevisoesMS_alt_gboost\", \"RSyMS_alt_gboost\", \"RStabela_metricasMS_alt_gboost\", 'RSmatrizMS_alt_gboost']\n",
    "\n",
    "[\"RSmodeloMS_alt_mlp\", \"RSprevisoesMS_alt_mlp\", \"RSyMS_alt_mlp\", \"RStabela_metricasMS_alt_mlp\", 'RSmatrizMS_alt_mlp']\n",
    "\n",
    "boxplot = \"Metrics of risk stratification (MH)*\"\n",
    "ROC = \"Risk stratification (Ministry of Health)*\""
   ]
  },
  {
   "cell_type": "code",
   "execution_count": null,
   "id": "1e7247f4-9ff0-4fa2-b36e-2e28d22764f0",
   "metadata": {},
   "outputs": [],
   "source": [
    "print(joblib.load(''))\n",
    "print(joblib.load(''))\n",
    "print(joblib.load(''))\n",
    "print(joblib.load(''))"
   ]
  },
  {
   "cell_type": "code",
   "execution_count": null,
   "id": "9af1b2dd-e0f8-42e8-af19-b03f222dadfa",
   "metadata": {},
   "outputs": [],
   "source": [
    "joblib.load('')"
   ]
  },
  {
   "cell_type": "markdown",
   "id": "014c199e-b2ad-4152-812e-ad6fc267ce54",
   "metadata": {},
   "source": [
    "### Ministério da Saúde + Artigo"
   ]
  },
  {
   "cell_type": "code",
   "execution_count": null,
   "id": "86babf52-ac75-4e53-9c5e-8fe855a98604",
   "metadata": {},
   "outputs": [],
   "source": [
    "'Estrogen receptor expression', 'Progesterone receptor expression','Molecular subtype', 'Tumor size', 'Grade','Angiolymphatic emboli', 'Lymph node', 'Distant metastasis','Age at diagnosis', 'Menopausal status', 'Exposure to pesticides'\n",
    "\n",
    "[\"RSprevisoesMSart_alt_svm\", \"RSyMSart_alt_svm\", \"RStabela_metricasMSart_alt_svm\", 'RSmatrizMSart_alt_svm']\n",
    "[\"RSprevisoesMSart_alt_rl\", \"RSyMSart_alt_rl\", \"RStabela_metricasMSart_alt_rl\", 'RSmatrizMSart_alt_rl']\n",
    "[\"RSprevisoesMSart_alt_rf\", \"RSyMSart_alt_rf\", \"RStabela_metricasMSart_alt_rf\", 'RSmatrizMSart_alt_rf']\n",
    "[\"RSprevisoesMSart_alt_gboost\", \"RKyMSart_alt_gboost\", \"RStabela_metricasMSart_alt_gboost\", 'RSmatrizMSart_alt_gboost']\n",
    "\n",
    "\"RSmodeloMSart_alt_mlp\", \"RSprevisoesMSart_alt_mlp\", \"RSyMSart_alt_mlp\", \"RStabela_metricasMSart_alt_mlp\", 'RSmatrizMSart_alt_mlp'\n",
    "\n",
    "boxplot = \"Metrics of risk stratification (MH + ART)*\"\n",
    "ROC = \"Risk stratification (Ministry of Health + article)*\""
   ]
  },
  {
   "cell_type": "code",
   "execution_count": null,
   "id": "d4c42cf6-c395-4f8c-acf6-6b978b12c085",
   "metadata": {},
   "outputs": [],
   "source": [
    "print(joblib.load(''))\n",
    "print(joblib.load(''))\n",
    "print(joblib.load(''))\n",
    "print(joblib.load(''))"
   ]
  },
  {
   "cell_type": "code",
   "execution_count": null,
   "id": "a70f4e8e-79c8-47fe-b3f7-5ffd70d01c90",
   "metadata": {},
   "outputs": [],
   "source": [
    "joblib.load('')"
   ]
  },
  {
   "cell_type": "markdown",
   "id": "3156c61f-faa1-496e-87f1-8814053b6605",
   "metadata": {},
   "source": [
    "### Artigo"
   ]
  },
  {
   "cell_type": "code",
   "execution_count": null,
   "id": "a9b3400b-0ce3-4247-9e88-a41d15f41e0f",
   "metadata": {},
   "outputs": [],
   "source": [
    "'Angiolymphatic emboli', 'Lymph node', 'Distant metastasis', 'Menopausal status', 'Exposure to pesticides'\n",
    "\n",
    "[\"RSprevisoesART_alt_svm\", \"RSyART_alt_svm\", \"RStabela_metricasART_alt_svm\", 'RSmatrizART_alt_svm']\n",
    "[\"RSprevisoesART_alt_rl\", \"RSyART_alt_rl\", \"RStabela_metricasART_alt_rl\", 'RSmatrizART_alt_rl']\n",
    "[\"RSprevisoesART_alt_rf\", \"RSyART_alt_rf\", \"RStabela_metricasART_alt_rf\", 'RSmatrizART_alt_rf']\n",
    "[\"RSprevisoesART_alt_gboost\", \"RKyART_alt_gboost\", \"RStabela_metricasART_alt_gboost\", 'RSmatrizART_alt_gboost']\n",
    "\n",
    "[\"RSmodeloART_alt_mlp\", \"RSprevisoesART_alt_mlp\", \"RSyART_alt_mlp\", \"RStabela_metricasART_alt_mlp\", 'RSmatrizART_alt_mlp']\n",
    "\n",
    "boxplot = \"Metrics of risk stratification (ART)*\"\n",
    "ROC = \"Risk stratification (Article)*\""
   ]
  },
  {
   "cell_type": "code",
   "execution_count": null,
   "id": "0e959dac-f87c-4a56-87ba-d2276ed1a9c5",
   "metadata": {},
   "outputs": [],
   "source": [
    "print(joblib.load(''))\n",
    "print(joblib.load(''))\n",
    "print(joblib.load(''))\n",
    "print(joblib.load(''))"
   ]
  },
  {
   "cell_type": "code",
   "execution_count": null,
   "id": "fa5a78fa-282b-481d-9a14-05e08e7ca6df",
   "metadata": {},
   "outputs": [],
   "source": [
    "joblib.load('')"
   ]
  },
  {
   "cell_type": "markdown",
   "id": "3c6b7e1d-bc3b-441d-b64f-3040b23b7113",
   "metadata": {},
   "source": [
    "### Ministério da Saúde Oversampling"
   ]
  },
  {
   "cell_type": "code",
   "execution_count": null,
   "id": "6a071e7b-2530-40ff-9260-b3457bf99574",
   "metadata": {},
   "outputs": [],
   "source": [
    "'Estrogen receptor expression', 'Progesterone receptor expression','Molecular subtype', 'Tumor size', 'Grade', 'Lymph node', 'Age at diagnosis'\n",
    "\n",
    "[\"RSprevisoesMSo_alt_svm\", \"RSyMSo_alt_svm\", \"RStabela_metricasMSo_alt_svm\", 'RSmatrizMSo_alt_svm']\n",
    "[\"RSprevisoesMSo_alt_rl\", \"RSyMSo_alt_rl\", \"RStabela_metricasMSo_alt_rl\", 'RSmatrizMSo_alt_rl']\n",
    "[\"RSprevisoesMSo_alt_rf\", \"RSyMSo_alt_rf\", \"RStabela_metricasMSo_alt_rf\", 'RSmatrizMSo_alt_rf']\n",
    "[\"RSprevisoesMSo_alt_gboost\", \"RKyMSo_alt_gboost\", \"RStabela_metricasMSo_alt_gboost\", 'RSmatrizMSo_alt_gboost']\n",
    "\n",
    "[\"RSmodeloMSo_alt_mlp\", \"RSprevisoesMSo_alt_mlp\", \"RSyMSo_alt_mlp\", \"RStabela_metricasMSo_alt_mlp\", 'RSmatrizMSo_alt_mlp']\n",
    "\n",
    "boxplot = \"Metrics of risk stratification (MH oversampling)*\"\n",
    "ROC = \"Risk stratification (Ministry of Health oversampling)*\""
   ]
  },
  {
   "cell_type": "code",
   "execution_count": null,
   "id": "c63b6363-ed79-4620-b0dc-6abeb344630e",
   "metadata": {},
   "outputs": [],
   "source": [
    "print(joblib.load(''))\n",
    "print(joblib.load(''))\n",
    "print(joblib.load(''))\n",
    "print(joblib.load(''))"
   ]
  },
  {
   "cell_type": "code",
   "execution_count": null,
   "id": "fa9e1c1a-cb9f-4cfa-be88-03d9d5d94e7a",
   "metadata": {},
   "outputs": [],
   "source": [
    "joblib.load('')"
   ]
  },
  {
   "cell_type": "markdown",
   "id": "fb2b9253-ffe5-4128-8907-692196aef324",
   "metadata": {},
   "source": [
    "### Ministério da Saúde + Artigo Oversampling"
   ]
  },
  {
   "cell_type": "code",
   "execution_count": null,
   "id": "63100cdd-af29-4a70-b8ed-fa240f3c896d",
   "metadata": {},
   "outputs": [],
   "source": [
    "'Estrogen receptor expression', 'Progesterone receptor expression','Molecular subtype', 'Tumor size', 'Grade','Angiolymphatic emboli', 'Lymph node', 'Distant metastasis','Age at diagnosis', 'Menopausal status', 'Exposure to pesticides'\n",
    "\n",
    "[\"RSprevisoesMSart0_alt_svm\", \"RSyMSart0_alt_svm\", \"RStabela_metricasMSart0_alt_svm\", 'RSmatrizMSart0_alt_svm']\n",
    "[\"RSprevisoesMSart0_alt_rl\", \"RSyMSart0_alt_rl\", \"RStabela_metricasMSart0_alt_rl\", 'RSmatrizMSart0_alt_rl']\n",
    "[\"RSprevisoesMSart0_alt_rf\", \"RSyMSart0_alt_rf\", \"RStabela_metricasMSart0_alt_rf\", 'RSmatrizMSart0_alt_rf']\n",
    "[\"RSprevisoesMSart0_alt_gboost\", \"RKyMSart0_alt_gboost\", \"RStabela_metricasMSart0_alt_gboost\", 'RSmatrizMSart0_alt_gboost']\n",
    "\n",
    "[\"RSmodeloMSart0_alt_mlp\", \"RSprevisoesMSart0_alt_mlp\", \"RSyMSart0_alt_mlp\", \"RStabela_metricasMSart0_alt_mlp\", 'RSmatrizMSart_alt_mlp']\n",
    "\n",
    "\"Metrics of risk stratification (MH + ART oversampling)*\"\n",
    "\"Risk stratification (Ministry of Health + article oversampling)*\""
   ]
  },
  {
   "cell_type": "code",
   "execution_count": null,
   "id": "987c7a54-50d5-4549-b14d-8a819ca17c45",
   "metadata": {},
   "outputs": [],
   "source": [
    "print(joblib.load(''))\n",
    "print(joblib.load(''))\n",
    "print(joblib.load(''))\n",
    "print(joblib.load(''))"
   ]
  },
  {
   "cell_type": "code",
   "execution_count": null,
   "id": "65ff827f-bc20-4269-ba95-747c5010d256",
   "metadata": {},
   "outputs": [],
   "source": [
    "joblib.load('')"
   ]
  },
  {
   "cell_type": "markdown",
   "id": "fd207e9d-4ed7-411b-a381-dc0bc4c068d2",
   "metadata": {
    "tags": []
   },
   "source": [
    "# Predição de Exposição a agrotóxicos"
   ]
  },
  {
   "cell_type": "markdown",
   "id": "1cdac45f-07c8-416e-bdcc-c7db6d2c60f3",
   "metadata": {},
   "source": [
    "## Dados"
   ]
  },
  {
   "cell_type": "code",
   "execution_count": null,
   "id": "7f6fcf59-8015-4783-9fc2-8df0761c72ac",
   "metadata": {},
   "outputs": [],
   "source": [
    "dados_cancerpositivo-Copy1.xlsx"
   ]
  },
  {
   "cell_type": "markdown",
   "id": "5e668746-d0b9-4b1a-87b4-63ad2a6c064b",
   "metadata": {},
   "source": [
    "### Ministério da Saúde"
   ]
  },
  {
   "cell_type": "code",
   "execution_count": null,
   "id": "d02c9c4b-9ef1-4eaa-8a49-20c869546da7",
   "metadata": {},
   "outputs": [],
   "source": [
    "'Estrogen receptor expression', 'Progesterone receptor expression','Molecular subtype', 'Tumor size', 'Grade', 'Lymph node', 'Age at diagnosis', 'Risk stratification'\n",
    "\n",
    "['EXPprevisoesMS_svm', 'EXPyMS_svm', 'EXPtabela_metricasMS_svm', 'EXPmatrizMS_svm']\n",
    "['EXPprevisoesMS_rl', 'EXPyMS_rl', 'EXPtabela_metricasMS_rl', 'EXPmatrizMS_rl']\n",
    "['EXPprevisoesMS_rf', 'EXPyMS_rf', 'EXPtabela_metricasMS_rf', 'EXPmatrizMS_rf']\n",
    "['EXPprevisoesMS_gboost', 'EXPyMS_gboost', 'EXPtabela_metricasMS_gboost', 'EXPmatrizMS_gboost']\n",
    "\n",
    "[\"EXPmodeloMS_mlp\", \"EXPprevisoesMS_mlp\", \"EXPyMS_mlp\", \"EXPtabela_metricasMS_mlp\", 'EXPmatrizMS_mlp']\n",
    "\n",
    "boxplot = 'Metrics of pesticide exposure (MH)'\n",
    " ROC = 'Pesticide exposure (Ministry of Health)'"
   ]
  },
  {
   "cell_type": "code",
   "execution_count": null,
   "id": "22b8bed0-7444-41ec-8940-d08c56b6ab57",
   "metadata": {},
   "outputs": [],
   "source": [
    "print(joblib.load(''))\n",
    "print(joblib.load(''))\n",
    "print(joblib.load(''))\n",
    "print(joblib.load(''))"
   ]
  },
  {
   "cell_type": "code",
   "execution_count": null,
   "id": "ab08262c-e89e-46d3-8ba1-d5d79718dc7d",
   "metadata": {},
   "outputs": [],
   "source": [
    "joblib.load('')"
   ]
  },
  {
   "cell_type": "markdown",
   "id": "d8c8863c-e119-4a1a-a2c2-e56a225183c5",
   "metadata": {},
   "source": [
    "### Ministério da Saúde + Artigo"
   ]
  },
  {
   "cell_type": "code",
   "execution_count": null,
   "id": "d615a398-a445-4deb-a0fe-44bcceded333",
   "metadata": {},
   "outputs": [],
   "source": [
    "'Estrogen receptor expression', 'Progesterone receptor expression','Molecular subtype', 'Tumor size', 'Grade','Angiolymphatic emboli', 'Lymph node', 'Distant metastasis','Age at diagnosis', 'Menopausal status','Risk stratification'\n",
    "\n",
    "['EXPprevisoesMSart_svm', 'EXPyMSart_svm', 'EXPtabela_metricasMSart_svm', 'EXPmatrizMSart_svm']\n",
    "['EXPprevisoesMSart_rl', 'EXPyMSart_rl', 'EXPtabela_metricasMSart_rl', 'EXPmatrizMSart_rl']\n",
    "['EXPprevisoesMSart_rf', 'EXPyMSart_rf', 'EXPtabela_metricasMSart_rf', 'EXPmatrizMSart_rf']\n",
    "['EXPprevisoesMSart_gboost', 'EXPyMSart_gboost', 'EXPtabela_metricasMSart_gboost', 'EXPmatrizMSart_gboost']\n",
    "\n",
    "[\"EXPmodeloMSart_mlp\", \"EXPprevisoesMSart_mlp\", \"EXPyMSart_mlp\", \"EXPtabela_metricasMSart_mlp\", 'EXPmatrizMSart_mlp']\n",
    "\n",
    "boxplot = 'Metrics of pesticide exposure (MH + ART)'\n",
    " ROC = 'Pesticide exposure (Ministry of Health + Article)'"
   ]
  },
  {
   "cell_type": "code",
   "execution_count": null,
   "id": "af98ea02-a716-4a2f-a977-63b7b5e728b2",
   "metadata": {},
   "outputs": [],
   "source": [
    "print(joblib.load(''))\n",
    "print(joblib.load(''))\n",
    "print(joblib.load(''))\n",
    "print(joblib.load(''))"
   ]
  },
  {
   "cell_type": "code",
   "execution_count": null,
   "id": "1869980e-8e15-40f2-ae09-e75ba30d61f9",
   "metadata": {},
   "outputs": [],
   "source": [
    "joblib.load('')"
   ]
  },
  {
   "cell_type": "markdown",
   "id": "41742c68-6f69-476c-8448-b4d0a31a10b6",
   "metadata": {},
   "source": [
    "### Artigo"
   ]
  },
  {
   "cell_type": "code",
   "execution_count": null,
   "id": "9d1e4921-005f-4173-901b-57235f715e6b",
   "metadata": {},
   "outputs": [],
   "source": [
    "'Angiolymphatic emboli', 'Lymph node', 'Distant metastasis', 'Menopausal status'\n",
    "\n",
    "['EXPprevisoesArt_svm', 'EXPyMSArt_svm', 'EXPtabela_metricasArt_svm', 'EXPmatrizArt_svm']\n",
    "['EXPprevisoesArt_rl', 'EXPyArt_rl', 'EXPtabela_metricasArt_rl', 'EXPmatrizArt_rl']\n",
    "['EXPprevisoesArt_rf', 'EXPyArt_rf', 'EXPtabela_metricasArt_rf', 'EXPmatrizArt_rf']\n",
    "['EXPprevisoesArt_gboost', 'EXPyArt_gboost', 'EXPtabela_metricasArt_gboost', 'EXPmatrizArt_gboost']\n",
    "\n",
    "[\"EXPmodeloArt_mlp\", \"EXPprevisoesArt_mlp\", \"EXPyArt_mlp\", \"EXPtabela_metricasArt_mlp\", 'EXPmatrizArt_mlp']\n",
    "\n",
    "boxplot = 'Metrics of pesticide exposure (ART)'\n",
    " ROC = 'Pesticide exposure (Article)'"
   ]
  },
  {
   "cell_type": "code",
   "execution_count": null,
   "id": "10f9f9aa-67de-453f-ba40-6792010fa1ef",
   "metadata": {},
   "outputs": [],
   "source": [
    "print(joblib.load(''))\n",
    "print(joblib.load(''))\n",
    "print(joblib.load(''))\n",
    "print(joblib.load(''))"
   ]
  },
  {
   "cell_type": "code",
   "execution_count": null,
   "id": "cc7dc8ac-d3fe-4149-ab44-f3b06db5fc65",
   "metadata": {},
   "outputs": [],
   "source": [
    "joblib.load('')"
   ]
  },
  {
   "cell_type": "markdown",
   "id": "13c1ba7b-145b-4ab7-8ce8-2944cfce1e54",
   "metadata": {},
   "source": [
    "### Ministério da Saúde Oversampling"
   ]
  },
  {
   "cell_type": "code",
   "execution_count": null,
   "id": "2decf65b-91a3-49cf-809e-c20330888999",
   "metadata": {},
   "outputs": [],
   "source": [
    "'Estrogen receptor expression', 'Progesterone receptor expression','Molecular subtype', 'Tumor size', 'Grade', 'Lymph node', 'Age at diagnosis', 'Risk stratification'\n",
    "\n",
    "['EXPprevisoesMS0_svm', 'EXPyMS0_svm', 'EXPtabela_metricasMS0_svm', 'EXPmatrizMS0_svm']\n",
    "['EXPprevisoesMS0_rl', 'EXPyMS0_rl', 'EXPtabela_metricasMS0_rl', 'EXPmatrizMS0_rl']\n",
    "['EXPprevisoesMS0_rf', 'EXPyMS0_rf', 'EXPtabela_metricasMS0_rf', 'EXPmatrizMS0_rf']\n",
    "['EXPprevisoesMS0_gboost', 'EXPyMS0_gboost', 'EXPtabela_metricasMS0_gboost', 'EXPmatrizMS0_gboost']\n",
    "\n",
    "[\"EXPmodeloMS0_mlp\", \"EXPprevisoesMS0_mlp\", \"EXPyMS0_mlp\", \"EXPtabela_metricasMS0_mlp\", 'EXPmatrizMS0_mlp']\n",
    "\n",
    "boxplot = 'Metrics of pesticide exposure (MH oversampling)'\n",
    " ROC = 'Pesticide exposure (Ministry of Health oversampling)'"
   ]
  },
  {
   "cell_type": "code",
   "execution_count": null,
   "id": "f05e2e01-18ce-44c9-8f1e-525ae72e4894",
   "metadata": {},
   "outputs": [],
   "source": [
    "print(joblib.load(''))\n",
    "print(joblib.load(''))\n",
    "print(joblib.load(''))\n",
    "print(joblib.load(''))"
   ]
  },
  {
   "cell_type": "code",
   "execution_count": null,
   "id": "e11ca79d-7ecb-4910-8b72-85f4519eca0c",
   "metadata": {},
   "outputs": [],
   "source": [
    "joblib.load('')"
   ]
  },
  {
   "cell_type": "markdown",
   "id": "680c683b-5c4d-4503-9efe-7dc38c3b117a",
   "metadata": {},
   "source": [
    "### Ministério da Saúde + Artigo Oversampling"
   ]
  },
  {
   "cell_type": "code",
   "execution_count": null,
   "id": "86a45c7a-997a-47d8-8982-6618732c47fb",
   "metadata": {},
   "outputs": [],
   "source": [
    "'Estrogen receptor expression', 'Progesterone receptor expression','Molecular subtype', 'Tumor size', 'Grade','Angiolymphatic emboli', 'Lymph node', 'Distant metastasis','Age at diagnosis', 'Menopausal status','Risk stratification'\n",
    "\n",
    "['EXPprevisoesMSart0_svm', 'EXPyMSart0_svm', 'EXPtabela_metricasMSart0_svm', 'EXPmatrizMSart0_svm']\n",
    "['EXPprevisoesMSart0_rl', 'EXPyMSart0_rl', 'EXPtabela_metricasMSart0_rl', 'EXPmatrizMSart0_rl']\n",
    "['EXPprevisoesMSart0_rf', 'EXPyMSart0_rf', 'EXPtabela_metricasMSart0_rf', 'EXPmatrizMSart0_rf']\n",
    "['EXPprevisoesMSart0_gboost', 'EXPyMSart0_gboost', 'EXPtabela_metricasMSart0_gboost', 'EXPmatrizMSart0_gboost']\n",
    "\n",
    "[\"EXPmodeloMSart0_mlp\", \"EXPprevisoesMSart0_mlp\", \"EXPyMSart0_mlp\", \"EXPtabela_metricasMSart0_mlp\", 'EXPmatrizMSart0_mlp']\n",
    "\n",
    "boxplot = 'Metrics of pesticide exposure (MH + ART oversampling)'\n",
    " ROC = 'Pesticide exposure (Ministry of Health + Article oversampling)'"
   ]
  },
  {
   "cell_type": "code",
   "execution_count": null,
   "id": "1005ae18-1aff-48c2-9b39-c2445e420abf",
   "metadata": {},
   "outputs": [],
   "source": [
    "print(joblib.load(''))\n",
    "print(joblib.load(''))\n",
    "print(joblib.load(''))\n",
    "print(joblib.load(''))"
   ]
  },
  {
   "cell_type": "code",
   "execution_count": null,
   "id": "e566fd7c-7994-46b4-944e-cc1a0b584cc0",
   "metadata": {},
   "outputs": [],
   "source": [
    "joblib.load('')"
   ]
  },
  {
   "cell_type": "markdown",
   "id": "ff815cb4-80b9-4b5d-8c37-b21cac09f616",
   "metadata": {},
   "source": [
    "## Dados alterados"
   ]
  },
  {
   "cell_type": "code",
   "execution_count": null,
   "id": "347df056-37d8-46cc-9ce8-47b9598ed40e",
   "metadata": {},
   "outputs": [],
   "source": []
  },
  {
   "cell_type": "markdown",
   "id": "3f32c50a-69be-4d0a-bd2f-41f4f6c75221",
   "metadata": {},
   "source": [
    "### Ministério da Saúde"
   ]
  },
  {
   "cell_type": "code",
   "execution_count": null,
   "id": "f713b731-d379-499a-bb8a-3aaab656e53c",
   "metadata": {},
   "outputs": [],
   "source": [
    "'Estrogen receptor expression', 'Progesterone receptor expression','Molecular subtype', 'Tumor size', 'Grade', 'Lymph node', 'Age at diagnosis'\n",
    "\n",
    "[\"EXPprevisoesMS_alt_svm\", \"EXPyMS_alt_svm\", \"EXPtabela_metricasMS_alt_svm\", 'EXPmatrizMS_alt_svm']\n",
    "[\"EXPprevisoesMS_alt_rl\", \"EXPyMS_alt_rl\", \"EXPtabela_metricasMS_alt_rl\", 'EXPmatrizMS_alt_rl']\n",
    "[\"EXPprevisoesMS_alt_rf\", \"EXPyMS_alt_rf\", \"EXPtabela_metricasMS_alt_rf\", 'EXPmatrizMS_alt_rf']\n",
    "[\"EXPprevisoesMS_alt_gboost\", \"EXPyMS_alt_gboost\", \"EXPtabela_metricasMS_alt_gboost\", 'EXPmatrizMS_alt_gboost']\n",
    "\n",
    "[\"EXPmodeloMS_alt_mlp\", \"EXPprevisoesMS_alt_mlp\", \"EXPyMS_alt_mlp\", \"EXPtabela_metricasMS_alt_mlp\", 'EXPmatrizMS_alt_mlp']\n",
    "\n",
    "boxplot = \"Metrics of pesticide exposure (MH)*\"\n",
    "ROC = \"Pesticide exposure (Ministry of Health)*\""
   ]
  },
  {
   "cell_type": "code",
   "execution_count": null,
   "id": "0489f0cf-e522-4efc-9318-ad8398b0cd77",
   "metadata": {},
   "outputs": [],
   "source": [
    "print(joblib.load(''))\n",
    "print(joblib.load(''))\n",
    "print(joblib.load(''))\n",
    "print(joblib.load(''))"
   ]
  },
  {
   "cell_type": "code",
   "execution_count": null,
   "id": "89ef0090-99b4-454f-9f77-8f0228620371",
   "metadata": {},
   "outputs": [],
   "source": []
  },
  {
   "cell_type": "markdown",
   "id": "dec2f682-f2ab-46c4-9f4c-a0718b270a55",
   "metadata": {},
   "source": [
    "### Artigo"
   ]
  },
  {
   "cell_type": "code",
   "execution_count": null,
   "id": "bf849077-2519-43bb-b582-131fc9955d77",
   "metadata": {},
   "outputs": [],
   "source": [
    "'Angiolymphatic emboli', 'Lymph node', 'Distant metastasis', 'Menopausal status'\n",
    "\n",
    "[\"EXPprevisoesArt_alt_svm\", \"EXPyArt_alt_svm\", \"EXPtabela_metricasArt_alt_svm\", 'EXPmatrizArt_alt_svm']\n",
    "[\"EXPprevisoesArt_alt_rl\", \"EXPyArt_alt_rl\", \"EXPtabela_metricasArt_alt_rl\", 'EXPmatrizArt_alt_rl']\n",
    "[\"EXPprevisoesArt_alt_rf\", \"EXPyArt_alt_rf\", \"EXPtabela_metricasArt_alt_rf\", 'EXPmatrizArt_alt_rf']\n",
    "[\"EXPprevisoesArt_alt_gboost\", \"EXPyArt_alt_gboost\", \"EXPtabela_metricasArt_alt_gboost\", 'EXPmatrizArt_alt_gboost']\n",
    "\n",
    "[\"EXPmodeloArt_alt_mlp\", \"EXPprevisoesArt_alt_mlp\", \"EXPyArt_alt_mlp\", \"EXPtabela_metricasArt_alt_mlp\", 'EXPmatrizArt_alt_mlp']\n",
    "\n",
    "boxplot = \"Metrics of pesticide exposure (Art)*\"\n",
    "ROC = \"Pesticide exposure (Article)*\""
   ]
  },
  {
   "cell_type": "code",
   "execution_count": null,
   "id": "136cd032-470c-40c9-b7a9-37e5c3cbc03c",
   "metadata": {},
   "outputs": [],
   "source": [
    "print(joblib.load(''))\n",
    "print(joblib.load(''))\n",
    "print(joblib.load(''))\n",
    "print(joblib.load(''))"
   ]
  },
  {
   "cell_type": "code",
   "execution_count": null,
   "id": "e71e318e-cce3-4c31-904b-63ef2de1833b",
   "metadata": {},
   "outputs": [],
   "source": [
    "joblib.load('')"
   ]
  },
  {
   "cell_type": "markdown",
   "id": "4b85e4a6-33b3-4f5d-ac87-6e58cdf5858b",
   "metadata": {},
   "source": [
    "### Ministério da Saúde + Artigo"
   ]
  },
  {
   "cell_type": "code",
   "execution_count": null,
   "id": "7972bf4b-eca5-4a61-8706-05b3123a7d2f",
   "metadata": {},
   "outputs": [],
   "source": [
    "'Estrogen receptor expression', 'Progesterone receptor expression','Molecular subtype', 'Tumor size', 'Grade','Angiolymphatic emboli', 'Lymph node', 'Distant metastasis','Age at diagnosis', 'Menopausal status','Risk stratification'\n",
    "\n",
    "[\"EXPprevisoesMSArt_alt_svm\", \"EXPyMSArt_alt_svm\", \"EXPtabela_metricasMSArt_alt_svm\", 'EXPmatrizMSArt_alt_svm']\n",
    "[\"EXPprevisoesMSArt_alt_rl\", \"EXPyMSArt_alt_rl\", \"EXPtabela_metricasMSArt_alt_rl\", 'EXPmatrizMSArt_alt_rl']\n",
    "[\"EXPprevisoesMSArt_alt_rf\", \"EXPyMSArt_alt_rf\", \"EXPtabela_metricasMSArt_alt_rf\", 'EXPmatrizMSArt_alt_rf']\n",
    "[\"EXPprevisoesMSArt_alt_gboost\", \"EXPyMSArt_alt_gboost\", \"EXPtabela_metricasMSArt_alt_gboost\", 'EXPmatrizMSArt_alt_gboost']\n",
    "\n",
    "[\"EXPmodeloMSArt_alt_mlp\", \"EXPprevisoesMSArt0_alt_mlp\", \"EXPyMSArt_alt_mlp\", \"EXPtabela_metricasMSArt_alt_mlp\", 'EXPmatrizMSArt_alt_mlp']\n",
    "\n",
    "boxplot = \"Metrics of pesticide exposure (MH+Art)*\"\n",
    "ROC = \"Pesticide exposure (MH+Art)*\""
   ]
  },
  {
   "cell_type": "code",
   "execution_count": null,
   "id": "8f325d0c-749e-40fb-9442-ee33c2a89358",
   "metadata": {},
   "outputs": [],
   "source": [
    "print(joblib.load(''))\n",
    "print(joblib.load(''))\n",
    "print(joblib.load(''))\n",
    "print(joblib.load(''))"
   ]
  },
  {
   "cell_type": "code",
   "execution_count": null,
   "id": "5393891f-c8a7-43c8-a470-c324058f0c7f",
   "metadata": {},
   "outputs": [],
   "source": [
    "joblib.load('')"
   ]
  },
  {
   "cell_type": "markdown",
   "id": "8c119ab3-d137-44f5-ba7b-6b6075e898d2",
   "metadata": {},
   "source": [
    "### Ministério da Saúde Oversampling"
   ]
  },
  {
   "cell_type": "code",
   "execution_count": null,
   "id": "5f269c11-1fc7-4708-a9cb-aafe1eea0420",
   "metadata": {},
   "outputs": [],
   "source": [
    "'Estrogen receptor expression', 'Progesterone receptor expression','Molecular subtype', 'Tumor size', 'Grade', 'Lymph node', 'Age at diagnosis'\n",
    "\n",
    "[\"EXPprevisoesMS0_alt_svm\", \"EXPyMS0_alt_svm\", \"EXPtabela_metricasMS0_alt_svm\", 'EXPmatrizMS0_alt_svm']\n",
    "[\"EXPprevisoesMS0_alt_rl\", \"EXPyMS0_alt_rl\", \"EXPtabela_metricasMS0_alt_rl\", 'EXPmatrizMS0_alt_rl']\n",
    "[\"EXPprevisoesMS0_alt_rf\", \"EXPyMS0_alt_rf\", \"EXPtabela_metricasMS0_alt_rf\", 'EXPmatrizMS0_alt_rf']\n",
    "[\"EXPprevisoesMS0_alt_gboost\", \"EXPyMS0_alt_gboost\", \"EXPtabela_metricasMS0_alt_gboost\", 'EXPmatrizMS0_alt_gboost']\n",
    "\n",
    "[\"EXPmodeloMS0_alt_mlp\", \"EXPprevisoesMS_alt_mlp\", \"EXPyMS_alt_mlp\", \"EXPtabela_metricasMS_alt_mlp\", 'EXPmatrizMS_alt_mlp']\n",
    "\n",
    "\"Metrics of pesticide exposure (MH Oversampling)*\",\n",
    "\"Pesticide exposure (MH Oversampling)*\""
   ]
  },
  {
   "cell_type": "code",
   "execution_count": null,
   "id": "e8c0d8c3-6055-43d3-814a-db5e7ce416eb",
   "metadata": {},
   "outputs": [],
   "source": [
    "print(joblib.load(''))\n",
    "print(joblib.load(''))\n",
    "print(joblib.load(''))\n",
    "print(joblib.load(''))"
   ]
  },
  {
   "cell_type": "code",
   "execution_count": null,
   "id": "bc0adf90-45ba-48cd-9598-91cd5f41e187",
   "metadata": {},
   "outputs": [],
   "source": [
    "joblib.load('')"
   ]
  },
  {
   "cell_type": "markdown",
   "id": "a7903672-c135-45ef-a091-3fdce5dafb82",
   "metadata": {},
   "source": [
    "### Ministério da Saúde + Artigo Oversampling"
   ]
  },
  {
   "cell_type": "code",
   "execution_count": null,
   "id": "103ac898-5b03-4e49-adb0-e6d20bf384fb",
   "metadata": {},
   "outputs": [],
   "source": [
    "'Estrogen receptor expression', 'Progesterone receptor expression','Molecular subtype', 'Tumor size', 'Grade','Angiolymphatic emboli', 'Lymph node', 'Distant metastasis','Age at diagnosis', 'Menopausal status','Risk stratification'\n",
    "\n",
    "[\"EXPprevisoesMSArt0_alt_svm\", \"EXPyMSArt0_alt_svm\", \"EXPtabela_metricasMSArt0_alt_svm\", 'EXPmatrizMSArt0_alt_svm']\n",
    "[\"EXPprevisoesMSArt0_alt_rl\", \"EXPyMSArt0_alt_rl\", \"EXPtabela_metricasMSArt0_alt_rl\", 'EXPmatrizMSArt0_alt_rl']\n",
    "[\"EXPprevisoesMSArt0_alt_rf\", \"EXPyMSArt0_alt_rf\", \"EXPtabela_metricasMSArt0_alt_rf\", 'EXPmatrizMSArt0_alt_rf']\n",
    "[\"EXPprevisoesMSArt0_alt_gboost\", \"EXPyMSArt0_alt_gboost\", \"EXPtabela_metricasMSArt0_alt_gboost\", 'EXPmatrizMSArt0_alt_gboost']\n",
    "\n",
    "[\"EXPmodeloMSArt0_alt_mlp\", \"EXPprevisoesMSArt0_alt_mlp\", \"EXPyMSArt0_alt_mlp\", \"EXPtabela_metricasMSArt0_alt_mlp\", 'EXPmatrizMSArt0_alt_mlp']\n",
    "\n",
    "boxplot = \"Metrics of pesticide exposure (MH+Art Oversampling)*\"\n",
    "ROC = \"Pesticide exposure (Ministry of Health + Article Oversampling)*\""
   ]
  },
  {
   "cell_type": "code",
   "execution_count": null,
   "id": "0a364089-b925-4de8-9c2e-c2437c85373f",
   "metadata": {},
   "outputs": [],
   "source": [
    "print(joblib.load(''))\n",
    "print(joblib.load(''))\n",
    "print(joblib.load(''))\n",
    "print(joblib.load(''))"
   ]
  },
  {
   "cell_type": "code",
   "execution_count": null,
   "id": "8e2452c1-6803-4c6f-b1d3-fd088ff09075",
   "metadata": {},
   "outputs": [],
   "source": [
    "joblib.load('')"
   ]
  },
  {
   "cell_type": "markdown",
   "id": "d9cd1e96-4ae2-4a8d-9980-bdda94479ccb",
   "metadata": {
    "tags": []
   },
   "source": [
    "# Predição Pior prognóstico"
   ]
  },
  {
   "cell_type": "markdown",
   "id": "98472d96-8bf1-4431-92e7-73e26bee53e6",
   "metadata": {},
   "source": [
    "## Dados"
   ]
  },
  {
   "cell_type": "markdown",
   "id": "809bd440-ec49-40bb-a563-157069ce184e",
   "metadata": {},
   "source": [
    "### Ministério da Saúde"
   ]
  },
  {
   "cell_type": "code",
   "execution_count": null,
   "id": "fe4bfd7e-083c-4260-bcc4-d3a56aeac73c",
   "metadata": {},
   "outputs": [],
   "source": [
    "'Estrogen receptor expression', 'Progesterone receptor expression','Molecular subtype', 'Tumor size', 'Grade', 'Lymph node', 'Age at diagnosis', 'Risk stratification'\n",
    "\n",
    "['WPprevisoesMS_svm', 'WPyMS_svm', 'WPtabela_metricasMS_svm', 'WPmatrizMS_svm']\n",
    "['WPprevisoesMS_rl', 'WPyMS_rl', 'WPtabela_metricasMS_rl', 'WPmatrizMS_rl']\n",
    "['WPprevisoesMS_rf', 'WPyMS_rf', 'WPtabela_metricasMS_rf', 'WPmatrizMS_rf']\n",
    "['WPprevisoesMS_gboost', 'WPyMS_gboost', 'WPtabela_metricasMS_gboost', 'WPmatrizMS_gboost']\n",
    "\n",
    "[\"WPmodeloMS_mlp\", \"WPprevisoesMS_mlp\", \"WPyMS_mlp\", \"WPtabela_metricasMS_mlp\", 'WPmatrizMS_mlp']\n",
    "\n",
    "boxplot = 'Metrics of worst prognosis (MH)'\n",
    " ROC = 'Worst prognosis (Ministry of Health)'"
   ]
  },
  {
   "cell_type": "code",
   "execution_count": null,
   "id": "124f2909-6962-4226-b014-5100698bea14",
   "metadata": {},
   "outputs": [],
   "source": [
    "print(joblib.load(''))\n",
    "print(joblib.load(''))\n",
    "print(joblib.load(''))\n",
    "print(joblib.load(''))"
   ]
  },
  {
   "cell_type": "code",
   "execution_count": null,
   "id": "5a85b66f-9cb7-4c36-87fa-015bace1436c",
   "metadata": {},
   "outputs": [],
   "source": [
    "joblib.load('')"
   ]
  },
  {
   "cell_type": "markdown",
   "id": "172f5d87-c1ea-44b4-9eed-12bf951a5f60",
   "metadata": {},
   "source": [
    "### Ministério da Saúde + Artigo"
   ]
  },
  {
   "cell_type": "code",
   "execution_count": null,
   "id": "76f6587e-b86a-442d-8c2c-0913bb83995f",
   "metadata": {},
   "outputs": [],
   "source": [
    "'Estrogen receptor expression', 'Progesterone receptor expression','Molecular subtype', 'Tumor size', 'Grade','Angiolymphatic emboli', 'Lymph node', 'Distant metastasis','Age at diagnosis', 'Menopausal status','Risk stratification', 'Exposure to pesticides'\n",
    "\n",
    "['WPprevisoesMSart_svm', 'WPyMSart_svm', 'WPtabela_metricasMSart_svm', 'WPmatrizMSart_svm']\n",
    "['WPprevisoesMSart_rl', 'WPyMSart_rl', 'WPtabela_metricasMSart_rl', 'WPmatrizMSart_rl']\n",
    "['WPprevisoesMSart_rf', 'WPyMSart_rf', 'WPtabela_metricasMSart_rf', 'WPmatrizMSart_rf']\n",
    "['WPprevisoesMSart_gboost', 'WPyMSart_gboost', 'WPtabela_metricasMSart_gboost', 'WPmatrizMSart_gboost']\n",
    "\n",
    "[\"WPmodeloMSart_mlp\", \"WPprevisoesMSart_mlp\", \"WPyMSart_mlp\", \"WPtabela_metricasMSart_mlp\", 'WPmatrizMSart_mlp']\n",
    "\n",
    "boxplot = 'Metrics of worst prognosis (MH + ART)'\n",
    " ROC = 'Worst prognosis (MH + Article)'"
   ]
  },
  {
   "cell_type": "code",
   "execution_count": null,
   "id": "76395620-083b-42e9-b679-5c494fab928b",
   "metadata": {},
   "outputs": [],
   "source": [
    "print(joblib.load(''))\n",
    "print(joblib.load(''))\n",
    "print(joblib.load(''))\n",
    "print(joblib.load(''))"
   ]
  },
  {
   "cell_type": "code",
   "execution_count": null,
   "id": "365ead02-5ef0-4195-90a9-990c5a482133",
   "metadata": {},
   "outputs": [],
   "source": [
    "joblib.load('')"
   ]
  },
  {
   "cell_type": "markdown",
   "id": "412dc62f-6fec-412f-82b6-a8c64d7ca861",
   "metadata": {},
   "source": [
    "### Arigo"
   ]
  },
  {
   "cell_type": "code",
   "execution_count": null,
   "id": "e7eae91d-49b7-428d-9136-b8854b493dd9",
   "metadata": {},
   "outputs": [],
   "source": [
    "'Angiolymphatic emboli', 'Lymph node', 'Distant metastasis', 'Menopausal status', 'Exposure to pesticides'\n",
    "\n",
    "'WPprevisoesart_svm', 'WPyart_svm', 'WPtabela_metricasart_svm', 'WPmatrizart_svm''\n",
    "'WPprevisoesart_rl', 'WPyart_rl', 'WPtabela_metricasart_rl', 'WPmatrizart_rl'\n",
    "'WPprevisoesart_rf', 'WPyart_rf', 'WPtabela_metricasart_rf', 'WPmatrizart_rf'\n",
    "'WPprevisoesart_gboost', 'WPyart_gboost', 'WPtabela_metricasart_gboost', 'WPmatrizart_gboost'\n",
    "\n",
    "boxplot = 'Metrics of worst prognosis (Article)'\n",
    " ROC = 'Worst prognosis (Article)'"
   ]
  },
  {
   "cell_type": "code",
   "execution_count": null,
   "id": "93067556-6e7e-4300-abc9-7dc514ce283a",
   "metadata": {},
   "outputs": [],
   "source": [
    "print(joblib.load(''))\n",
    "print(joblib.load(''))\n",
    "print(joblib.load(''))\n",
    "print(joblib.load(''))"
   ]
  },
  {
   "cell_type": "code",
   "execution_count": null,
   "id": "f40b88c8-83c6-4496-a68d-4686fab9aab4",
   "metadata": {},
   "outputs": [],
   "source": [
    "joblib.load('')"
   ]
  },
  {
   "cell_type": "markdown",
   "id": "76364ca0-3aa6-4eea-9fc4-dd4cb8613f3e",
   "metadata": {},
   "source": [
    "### Ministério da Saúde + EXP"
   ]
  },
  {
   "cell_type": "code",
   "execution_count": null,
   "id": "46a0afd4-1862-47f1-a39a-083c2c7c25e2",
   "metadata": {},
   "outputs": [],
   "source": [
    "'Estrogen receptor expression', 'Progesterone receptor expression','Molecular subtype', 'Tumor size', 'Grade', 'Lymph node', 'Age at diagnosis', 'Risk stratification', 'Exposure to pesticides'\n",
    "\n",
    "['WPprevisoesMSEXP_svm', 'WPyMSEXP_svm', 'WPtabela_metricasMSEXP_svm', 'WPmatrizMSEXP_svm']\n",
    "['WPprevisoesMSEXP_rl', 'WPyMSEXP_rl', 'WPtabela_metricasMSEXP_rl', 'WPmatrizMSEXP_rl']\n",
    "['WPprevisoesMSEXP_rf', 'WPyMSEXP_rf', 'WPtabela_metricasMSEXP_rf', 'WPmatrizMSEXP_rf']\n",
    "['WPprevisoesMSEXP_gboost', 'WPyMSEXP_gboost', 'WPtabela_metricasMSEXP_gboost', 'WPmatrizMSEXP_gboost']\n",
    "\n",
    "[\"WPmodeloMSEXP_mlp\", \"WPprevisoesMSEXP_mlp\", \"WPyMSEXP_mlp\", \"WPtabela_metricasMSEXP_mlp\", 'WPmatrizMSEXP_mlp']\n",
    "\n",
    "boxplot = 'Metrics of worst prognosis (MH+ EXP)'\n",
    " ROC = 'Worst prognosis (MH+EXP)'"
   ]
  },
  {
   "cell_type": "code",
   "execution_count": null,
   "id": "172a7f57-a606-4bc5-9446-4f00ce287de2",
   "metadata": {},
   "outputs": [],
   "source": [
    "print(joblib.load(''))\n",
    "print(joblib.load(''))\n",
    "print(joblib.load(''))\n",
    "print(joblib.load(''))"
   ]
  },
  {
   "cell_type": "code",
   "execution_count": null,
   "id": "8351154e-7f0c-49ab-9d8b-45dc711ffe01",
   "metadata": {},
   "outputs": [],
   "source": [
    "joblib.load('')"
   ]
  },
  {
   "cell_type": "markdown",
   "id": "f657f938-0165-4ef5-972a-f90a09ddaddf",
   "metadata": {},
   "source": [
    "### Ministério da Saúde com Oversampling"
   ]
  },
  {
   "cell_type": "code",
   "execution_count": null,
   "id": "8de3b7fe-00d8-4ccc-8554-2ba8facd8973",
   "metadata": {},
   "outputs": [],
   "source": [
    "'Estrogen receptor expression', 'Progesterone receptor expression','Molecular subtype', 'Tumor size', 'Grade', 'Lymph node', 'Age at diagnosis', 'Risk stratification'\n",
    "\n",
    "['WPprevisoesMS0_svm', 'WPyMS0_svm', 'WPtabela_metricasMS0_svm', 'WPmatrizMS0_svm']\n",
    "['WPprevisoesMS0_rl', 'WPyMS0_rl', 'WPtabela_metricasMS0_rl', 'WPmatrizMS0_rl']\n",
    "['WPprevisoesMS0_rf', 'WPyMS0_rf', 'WPtabela_metricasMS0_rf', 'WPmatrizMS0_rf']\n",
    "['WPprevisoesMS0_gboost', 'WPyMS0_gboost', 'WPtabela_metricasMS0_gboost', 'WPmatrizMS0_gboost']\n",
    "\n",
    "[\"WPmodeloMS0_mlp\", \"WPprevisoesMS0_mlp\", \"WPyMS0_mlp\", \"WPtabela_metricasMS0_mlp\", 'WPmatrizMS0_mlp']\n",
    "\n",
    "boxplot = 'Metrics of worst prognosis (MH Oversampling)'\n",
    " ROC = 'Worst prognosis (Ministry of Health Oversampling)'"
   ]
  },
  {
   "cell_type": "code",
   "execution_count": null,
   "id": "61c210c2-50b5-4cbc-8343-00b167ddb771",
   "metadata": {},
   "outputs": [],
   "source": [
    "print(joblib.load(''))\n",
    "print(joblib.load(''))\n",
    "print(joblib.load(''))\n",
    "print(joblib.load(''))"
   ]
  },
  {
   "cell_type": "code",
   "execution_count": null,
   "id": "bdab93b0-1e15-4c39-a0bf-f88431fba5e2",
   "metadata": {},
   "outputs": [],
   "source": [
    "joblib.load('')"
   ]
  },
  {
   "cell_type": "markdown",
   "id": "ffbd968b-b57a-4864-8976-dfefcac925fd",
   "metadata": {},
   "source": [
    "### Ministério da Saúde +Artigo com Oversampling"
   ]
  },
  {
   "cell_type": "code",
   "execution_count": null,
   "id": "b84751bf-4d66-45d1-973c-11488fbf37cc",
   "metadata": {},
   "outputs": [],
   "source": [
    "'Estrogen receptor expression', 'Progesterone receptor expression','Molecular subtype', 'Tumor size', 'Grade','Angiolymphatic emboli', 'Lymph node', 'Distant metastasis','Age at diagnosis', 'Menopausal status','Risk stratification', 'Exposure to pesticides'\n",
    "\n",
    "['WPprevisoesMSart0_svm', 'WPyMSart0_svm', 'WPtabela_metricasMSart0_svm', 'WPmatrizMSart0_svm']\n",
    "['WPprevisoesMSart0_rl', 'WPyMSart0_rl', 'WPtabela_metricasMSart0_rl', 'WPmatrizMSart0_rl']\n",
    "['WPprevisoesMSart0_rf', 'WPyMSart0_rf', 'WPtabela_metricasMSart0_rf', 'WPmatrizMSart0_rf']\n",
    "['WPprevisoesMSart0_gboost', 'WPyMSart0_gboost', 'WPtabela_metricasMSart0_gboost', 'WPmatrizMSart0_gboost']\n",
    "\n",
    "[\"WPmodeloMSart0_mlp\", \"WPprevisoesMSart0_mlp\", \"WPyMSart0_mlp\", \"WPtabela_metricasMSart0_mlp\", 'WPmatrizMSart0_mlp']\n",
    "\n",
    "boxplot = 'Metrics of worst prognosis (MH+ART Oversampling)'\n",
    " ROC = 'Worst prognosis (MH+Art Oversampling)'"
   ]
  },
  {
   "cell_type": "code",
   "execution_count": null,
   "id": "96a659c0-4ac9-4558-ac5d-9f3dc6780621",
   "metadata": {},
   "outputs": [],
   "source": [
    "print(joblib.load(''))\n",
    "print(joblib.load(''))\n",
    "print(joblib.load(''))\n",
    "print(joblib.load(''))"
   ]
  },
  {
   "cell_type": "code",
   "execution_count": null,
   "id": "ea4f4b72-5fae-4b72-90e1-b5d37686b492",
   "metadata": {},
   "outputs": [],
   "source": [
    "joblib.load('')"
   ]
  },
  {
   "cell_type": "markdown",
   "id": "5bb976c1-c912-4783-b438-f99592293af1",
   "metadata": {},
   "source": [
    "## Dados alterados"
   ]
  },
  {
   "cell_type": "markdown",
   "id": "3d138389-d0ec-41b9-b360-c87f5dee9b4e",
   "metadata": {},
   "source": [
    "### Ministério da Saúde"
   ]
  },
  {
   "cell_type": "code",
   "execution_count": null,
   "id": "76ad8d0d-45f2-4553-9f86-5af1410a5fb9",
   "metadata": {},
   "outputs": [],
   "source": [
    "'Estrogen receptor expression', 'Progesterone receptor expression','Molecular subtype', 'Tumor size', 'Grade', 'Lymph node', 'Age at diagnosis', 'Risk stratification'\n",
    "\n",
    "['WPprevisoesMS_alt_svm', 'WPyMS_alt_svm', 'WPtabela_metricasMS_alt_svm', 'WPmatrizMS_alt_svm']\n",
    "['WPprevisoesMS_alt_rl', 'WPyMS_alt_rl', 'WPtabela_metricasMS_alt_rl', 'WPmatrizMS_alt_rl']\n",
    "['WPprevisoesMS_alt_rf', 'WPyMS_alt_rf', 'WPtabela_metricasMS_alt_rf', 'WPmatrizMS_alt_rf']\n",
    "['WPprevisoesMS_alt_gboost', 'WPyMS_alt_gboost', 'WPtabela_metricasMS_alt_gboost', 'WPmatrizMS_alt_gboost']\n",
    "\n",
    "[\"WPmodeloMS_alt_mlp\", \"WPprevisoesMS_alt_mlp\", \"WPyMS_alt_mlp\", \"WPtabela_metricasMS_alt_mlp\", 'WPmatrizMS_alt_mlp']\n",
    "\n",
    "boxplot = 'Metrics of worst prognosis (MH)*'\n",
    " ROC = 'Worst prognosis (Ministry of Health)*'"
   ]
  },
  {
   "cell_type": "code",
   "execution_count": null,
   "id": "353e4305-728e-4c14-9516-1e068d8a9a3b",
   "metadata": {},
   "outputs": [],
   "source": [
    "print(joblib.load(''))\n",
    "print(joblib.load(''))\n",
    "print(joblib.load(''))\n",
    "print(joblib.load(''))"
   ]
  },
  {
   "cell_type": "code",
   "execution_count": null,
   "id": "4c2c6722-527e-4b13-9834-435efb9625ce",
   "metadata": {},
   "outputs": [],
   "source": [
    "joblib.load('')"
   ]
  },
  {
   "cell_type": "markdown",
   "id": "8ed3d0b7-742d-421e-b87f-0ecbd9c6a594",
   "metadata": {},
   "source": [
    "### Ministério da Saúde + Artigo"
   ]
  },
  {
   "cell_type": "code",
   "execution_count": null,
   "id": "df352fb0-d9cc-45e8-98cb-f34adbfa1595",
   "metadata": {},
   "outputs": [],
   "source": [
    "'Estrogen receptor expression', 'Progesterone receptor expression','Molecular subtype', 'Tumor size', 'Grade','Angiolymphatic emboli', 'Lymph node', 'Distant metastasis','Age at diagnosis', 'Menopausal status','Risk stratification', 'Exposure to pesticides'\n",
    "\n",
    "['WPprevisoesMSart_alt_svm', 'WPyMSart_alt_svm', 'WPtabela_metricasMSart_alt_svm', 'WPmatrizMSart_alt_svm']\n",
    "['WPprevisoesMSart_alt_rl', 'WPyMSart_alt_rl', 'WPtabela_metricasMSart_alt_rl', 'WPmatrizMSart_alt_rl']\n",
    "['WPprevisoesMSart_alt_rf', 'WPyMSart_alt_rf', 'WPtabela_metricasMSart_alt_rf', 'WPmatrizMSart_alt_rf']\n",
    "['WPprevisoesMSart_alt_gboost', 'WPyMSart_alt_gboost', 'WPtabela_metricasMSart_alt_gboost', 'WPmatrizMSart_alt_gboost']\n",
    "\n",
    "[\"WPmodeloMSart_alt_mlp\", \"WPprevisoesMSart_alt_mlp\", \"WPyMSart_alt_mlp\", \"WPtabela_metricasMSart_alt_mlp\", 'WPmatrizMSart_alt_mlp']\n",
    "\n",
    "boxplot = 'Metrics of worst prognosis (MH + ART)*'\n",
    " ROC = 'Worst prognosis (MH + Article)*'"
   ]
  },
  {
   "cell_type": "code",
   "execution_count": null,
   "id": "6c7cfe26-ca44-4745-be50-5095de56bd87",
   "metadata": {},
   "outputs": [],
   "source": [
    "print(joblib.load(''))\n",
    "print(joblib.load(''))\n",
    "print(joblib.load(''))\n",
    "print(joblib.load(''))"
   ]
  },
  {
   "cell_type": "code",
   "execution_count": null,
   "id": "5e49e76a-e862-46dd-9335-ca890f113260",
   "metadata": {},
   "outputs": [],
   "source": [
    "joblib.load('')"
   ]
  },
  {
   "cell_type": "markdown",
   "id": "f1450303-3d26-430b-938d-04aacbc61c12",
   "metadata": {},
   "source": [
    "### Artigo"
   ]
  },
  {
   "cell_type": "code",
   "execution_count": null,
   "id": "d7b0470a-f629-4805-a801-3f8c92663fa3",
   "metadata": {},
   "outputs": [],
   "source": [
    "'Angiolymphatic emboli', 'Lymph node', 'Distant metastasis', 'Menopausal status', 'Exposure to pesticides'\n",
    "\n",
    "['WPprevisoes_alt_art_svm', 'WPy_alt_art_svm', 'WPtabela_metricas_alt_art_svm', 'WPmatrizart_alt_svm']\n",
    "['WPprevisoes_alt_art_rl', 'WPy_alt_art_rl', 'WPtabela_metricas_alt_art_rl', 'WPmatrizart_alt_rl']\n",
    "['WPprevisoes_alt_art_rf', 'WPy_alt_art_rf', 'WPtabela_metricas_alt_art_rf', 'WPmatrizart_alt_rf']\n",
    "['WPprevisoes_alt_art_gboost', 'WPy_alt_art_gboost', 'WPtabela_metricas_alt_art_gboost', 'WPmatrizart_alt_gboost']\n",
    "\n",
    "boxplot = 'Metrics of worst prognosis (Article)*'\n",
    " ROC = 'Worst prognosis (Article)*'"
   ]
  },
  {
   "cell_type": "code",
   "execution_count": null,
   "id": "97057cb2-2221-4635-bc36-73cb53820eb5",
   "metadata": {},
   "outputs": [],
   "source": [
    "print(joblib.load(''))\n",
    "print(joblib.load(''))\n",
    "print(joblib.load(''))\n",
    "print(joblib.load(''))"
   ]
  },
  {
   "cell_type": "code",
   "execution_count": null,
   "id": "76057c7b-8794-49d2-8203-ddaa49edba2c",
   "metadata": {},
   "outputs": [],
   "source": [
    "joblib.load('')"
   ]
  },
  {
   "cell_type": "markdown",
   "id": "fbf893de-a846-43b8-a2a0-18551339466c",
   "metadata": {},
   "source": [
    "### Ministério da Saúde + EXP"
   ]
  },
  {
   "cell_type": "code",
   "execution_count": null,
   "id": "3cf5144c-bbc8-45f9-8d64-523666b579db",
   "metadata": {},
   "outputs": [],
   "source": [
    "'Estrogen receptor expression', 'Progesterone receptor expression','Molecular subtype', 'Tumor size', 'Grade', 'Lymph node', 'Age at diagnosis', 'Risk stratification', 'Exposure to pesticides'\n",
    "\n",
    "['WPprevisoesMSEXP__altsvm', 'WPyMSEXP__altsvm', 'WPtabela_metricasMSEXP_alt_svm', 'WPmatrizMSEXP_alt_svm']\n",
    "['WPprevisoesMSEXP__altrl', 'WPyMSEXP__altrl', 'WPtabela_metricasMSEXP_alt_rl', 'WPmatrizMSEXP_alt_rl']\n",
    "['WPprevisoesMSEXP__altrf', 'WPyMSEXP__altrf', 'WPtabela_metricasMSEXP_alt_rf', 'WPmatrizMSEXP_alt_rf']\n",
    "['WPprevisoesMSEXP__altgboost', 'WPyMSEXP_alt_gboost', 'WPtabela_metricasMSEXP_alt_gboost', 'WPmatrizMSEXP_alt_gboost']\n",
    "\n",
    "[\"WPmodeloMSEXP__altmlp\", \"WPprevisoesMSEXP__altmlp\", \"WPyMSEXP_alt_mlp\", \"WPtabela_metricasMSEXP_alt_mlp\", 'WPmatrizMSEXP_alt_mlp']\n",
    "\n",
    "boxplot = 'Metrics of worst prognosis (MH+ EXP)*'\n",
    " ROC = 'Worst prognosis (MH+EXP)*'"
   ]
  },
  {
   "cell_type": "code",
   "execution_count": null,
   "id": "4369ebe3-fdb2-4ef7-af42-57284905fb98",
   "metadata": {},
   "outputs": [],
   "source": [
    "print(joblib.load(''))\n",
    "print(joblib.load(''))\n",
    "print(joblib.load(''))\n",
    "print(joblib.load(''))"
   ]
  },
  {
   "cell_type": "code",
   "execution_count": null,
   "id": "d29f1fac-2e67-481c-a7c7-9952481fc8ea",
   "metadata": {},
   "outputs": [],
   "source": [
    "joblib.load('')"
   ]
  },
  {
   "cell_type": "markdown",
   "id": "aedd0529-904a-451f-a0e2-de7839fa4b38",
   "metadata": {},
   "source": [
    "### Ministério da Saúde com Oversampling"
   ]
  },
  {
   "cell_type": "code",
   "execution_count": null,
   "id": "a1044e0f-2d9c-4903-926b-90275db15349",
   "metadata": {},
   "outputs": [],
   "source": [
    "'Estrogen receptor expression', 'Progesterone receptor expression','Molecular subtype', 'Tumor size', 'Grade', 'Lymph node', 'Age at diagnosis', 'Risk stratification'\n",
    "\n",
    "['WPprevisoesMS0_alt_svm', 'WPyMS0_alt_svm', 'WPtabela_metricasMS0_alt_svm', 'WPmatrizMS0_alt_svm']\n",
    "['WPprevisoesMS0_alt_rl', 'WPyMS0_alt_rl', 'WPtabela_metricasMS0_alt_rl', 'WPmatrizMS0_alt_rl']\n",
    "['WPprevisoesMS0_alt_rf', 'WPyMS0_alt_rf', 'WPtabela_metricasMS0_alt_rf', 'WPmatrizMS0_alt_rf']\n",
    "['WPprevisoesMS0_alt_gboost', 'WPyMS0_alt_gboost', 'WPtabela_metricasMS0_alt_gboost', 'WPmatrizMS0_alt_gboost']\n",
    "\n",
    "[\"WPmodeloMS0_alt_mlp\", \"WPprevisoesMS0_alt_mlp\", \"WPyMS0_alt_mlp\", \"WPtabela_metricasMS0_alt_mlp\", 'WPmatrizMS0_alt_mlp']\n",
    "\n",
    "boxplot = 'Metrics of worst prognosis (MH Oversampling)*'\n",
    " ROC = 'Worst prognosis (Ministry of Health Oversampling)*'"
   ]
  },
  {
   "cell_type": "code",
   "execution_count": null,
   "id": "21251323-6baf-44f4-a529-006c12584857",
   "metadata": {},
   "outputs": [],
   "source": [
    "print(joblib.load(''))\n",
    "print(joblib.load(''))\n",
    "print(joblib.load(''))\n",
    "print(joblib.load(''))"
   ]
  },
  {
   "cell_type": "code",
   "execution_count": null,
   "id": "7cfe6d68-973b-4ca1-9e10-4bd962d185a3",
   "metadata": {},
   "outputs": [],
   "source": [
    "joblib.load('')"
   ]
  },
  {
   "cell_type": "markdown",
   "id": "a594e5ff-8b7b-4fd3-b767-0e98b3b78fdf",
   "metadata": {},
   "source": [
    "### Ministério da Saúde +Artigo com Oversampling"
   ]
  },
  {
   "cell_type": "code",
   "execution_count": null,
   "id": "61370f0f-8a04-469e-a7ef-cb53e0aa46e8",
   "metadata": {},
   "outputs": [],
   "source": [
    "'Estrogen receptor expression', 'Progesterone receptor expression','Molecular subtype', 'Tumor size', 'Grade','Angiolymphatic emboli', 'Lymph node', 'Distant metastasis','Age at diagnosis', 'Menopausal status','Risk stratification', 'Exposure to pesticides'\n",
    "\n",
    "['WPprevisoesMSart0_alt_svm', 'WPyMSart0_alt_svm', 'WPtabela_metricasMSart0_alt_svm', 'WPmatrizMSart0_alt_svm']\n",
    "['WPprevisoesMSart0_alt_rl', 'WPyMSart0_alt_rl', 'WPtabela_metricasMSart0_alt_rl', 'WPmatrizMSart0_alt_rl']\n",
    "['WPprevisoesMSart0_alt_rf', 'WPyMSart0_alt_rf', 'WPtabela_metricasMSart0_alt_rf', 'WPmatrizMSart0_alt_rf']\n",
    "['WPprevisoesMSart0_alt_gboost', 'WPyMSart0_alt_gboost', 'WPtabela_metricasMSart0_alt_gboost', 'WPmatrizMSart0_alt_gboost']\n",
    "\n",
    "[\"WPmodeloMSart0_alt_mlp\", \"WPprevisoesMSart0_alt_mlp\", \"WPyMSart0_alt_mlp\", \"WPtabela_metricasMSart0_alt_mlp\", 'WPmatrizMSart0_alt_mlp']\n",
    "\n",
    "boxplot = 'Metrics of worst prognosis (MH+ART Oversampling)*'\n",
    " ROC = 'Worst prognosis (MH+Art Oversampling)*'"
   ]
  },
  {
   "cell_type": "code",
   "execution_count": null,
   "id": "3fce6bd5-a3bd-4be8-94b9-bebc8a582dc0",
   "metadata": {},
   "outputs": [],
   "source": [
    "print(joblib.load(''))\n",
    "print(joblib.load(''))\n",
    "print(joblib.load(''))\n",
    "print(joblib.load(''))"
   ]
  },
  {
   "cell_type": "code",
   "execution_count": null,
   "id": "e159a533-010a-4e87-827b-23db8ef8d62f",
   "metadata": {},
   "outputs": [],
   "source": [
    "joblib.load('')"
   ]
  }
 ],
 "metadata": {
  "kernelspec": {
   "display_name": "Python 3 (ipykernel)",
   "language": "python",
   "name": "python3"
  },
  "language_info": {
   "codemirror_mode": {
    "name": "ipython",
    "version": 3
   },
   "file_extension": ".py",
   "mimetype": "text/x-python",
   "name": "python",
   "nbconvert_exporter": "python",
   "pygments_lexer": "ipython3",
   "version": "3.7.9"
  }
 },
 "nbformat": 4,
 "nbformat_minor": 5
}
